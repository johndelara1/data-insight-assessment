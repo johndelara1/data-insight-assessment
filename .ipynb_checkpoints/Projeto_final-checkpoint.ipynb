{
 "cells": [
  {
   "cell_type": "code",
   "execution_count": 63,
   "metadata": {},
   "outputs": [],
   "source": [
    "import pandas as pd"
   ]
  },
  {
   "cell_type": "code",
   "execution_count": 65,
   "metadata": {},
   "outputs": [],
   "source": [
    "df = pd.read_csv('estaticos_market/estaticos_market.csv')"
   ]
  },
  {
   "cell_type": "code",
   "execution_count": 6,
   "metadata": {},
   "outputs": [],
   "source": [
    "df = pd.read_csv('estaticos_market.csv/estaticos_market.csv')"
   ]
  },
  {
   "cell_type": "code",
   "execution_count": null,
   "metadata": {},
   "outputs": [],
   "source": [
    "DD"
   ]
  },
  {
   "cell_type": "code",
   "execution_count": 66,
   "metadata": {},
   "outputs": [],
   "source": [
    "files = !ls *.csv # IPython magic\n",
    "df1 = pd.read_csv(f'{files[0]}')\n",
    "df2 = pd.read_csv(f'{files[1]}')\n",
    "df3 = pd.read_csv(f'{files[2]}')"
   ]
  },
  {
   "cell_type": "markdown",
   "metadata": {},
   "source": [
    "### Estaticos Market"
   ]
  },
  {
   "cell_type": "code",
   "execution_count": 74,
   "metadata": {},
   "outputs": [
    {
     "data": {
      "text/html": [
       "<div>\n",
       "<style scoped>\n",
       "    .dataframe tbody tr th:only-of-type {\n",
       "        vertical-align: middle;\n",
       "    }\n",
       "\n",
       "    .dataframe tbody tr th {\n",
       "        vertical-align: top;\n",
       "    }\n",
       "\n",
       "    .dataframe thead th {\n",
       "        text-align: right;\n",
       "    }\n",
       "</style>\n",
       "<table border=\"1\" class=\"dataframe\">\n",
       "  <thead>\n",
       "    <tr style=\"text-align: right;\">\n",
       "      <th></th>\n",
       "      <th>Unnamed: 0</th>\n",
       "      <th>id</th>\n",
       "      <th>fl_matriz</th>\n",
       "      <th>de_natureza_juridica</th>\n",
       "      <th>sg_uf</th>\n",
       "      <th>natureza_juridica_macro</th>\n",
       "      <th>de_ramo</th>\n",
       "      <th>setor</th>\n",
       "      <th>idade_empresa_anos</th>\n",
       "      <th>idade_emp_cat</th>\n",
       "      <th>...</th>\n",
       "      <th>media_meses_servicos</th>\n",
       "      <th>max_meses_servicos</th>\n",
       "      <th>min_meses_servicos</th>\n",
       "      <th>qt_funcionarios</th>\n",
       "      <th>qt_funcionarios_12meses</th>\n",
       "      <th>qt_funcionarios_24meses</th>\n",
       "      <th>tx_crescimento_12meses</th>\n",
       "      <th>tx_crescimento_24meses</th>\n",
       "      <th>tx_rotatividade</th>\n",
       "      <th>qt_filiais</th>\n",
       "    </tr>\n",
       "  </thead>\n",
       "  <tbody>\n",
       "    <tr>\n",
       "      <th>0</th>\n",
       "      <td>0</td>\n",
       "      <td>a6984c3ae395090e3bee8ad63c3758b110de096d5d8195...</td>\n",
       "      <td>True</td>\n",
       "      <td>SOCIEDADE EMPRESARIA LIMITADA</td>\n",
       "      <td>RN</td>\n",
       "      <td>ENTIDADES EMPRESARIAIS</td>\n",
       "      <td>INDUSTRIA DA CONSTRUCAO</td>\n",
       "      <td>CONSTRUÇÃO CIVIL</td>\n",
       "      <td>14.457534</td>\n",
       "      <td>10 a 15</td>\n",
       "      <td>...</td>\n",
       "      <td>43.738462</td>\n",
       "      <td>93.266667</td>\n",
       "      <td>19.166667</td>\n",
       "      <td>26.0</td>\n",
       "      <td>26.0</td>\n",
       "      <td>27.0</td>\n",
       "      <td>0.0</td>\n",
       "      <td>-3.703704</td>\n",
       "      <td>0.0</td>\n",
       "      <td>0</td>\n",
       "    </tr>\n",
       "    <tr>\n",
       "      <th>1</th>\n",
       "      <td>1</td>\n",
       "      <td>6178f41ade1365e44bc2c46654c2c8c0eaae27dcb476c4...</td>\n",
       "      <td>True</td>\n",
       "      <td>EMPRESARIO INDIVIDUAL</td>\n",
       "      <td>PI</td>\n",
       "      <td>OUTROS</td>\n",
       "      <td>SERVICOS DE ALOJAMENTO/ALIMENTACAO</td>\n",
       "      <td>SERVIÇO</td>\n",
       "      <td>1.463014</td>\n",
       "      <td>1 a 5</td>\n",
       "      <td>...</td>\n",
       "      <td>NaN</td>\n",
       "      <td>NaN</td>\n",
       "      <td>NaN</td>\n",
       "      <td>NaN</td>\n",
       "      <td>NaN</td>\n",
       "      <td>NaN</td>\n",
       "      <td>NaN</td>\n",
       "      <td>NaN</td>\n",
       "      <td>NaN</td>\n",
       "      <td>0</td>\n",
       "    </tr>\n",
       "  </tbody>\n",
       "</table>\n",
       "<p>2 rows × 182 columns</p>\n",
       "</div>"
      ],
      "text/plain": [
       "   Unnamed: 0                                                 id  fl_matriz  \\\n",
       "0           0  a6984c3ae395090e3bee8ad63c3758b110de096d5d8195...       True   \n",
       "1           1  6178f41ade1365e44bc2c46654c2c8c0eaae27dcb476c4...       True   \n",
       "\n",
       "            de_natureza_juridica sg_uf natureza_juridica_macro  \\\n",
       "0  SOCIEDADE EMPRESARIA LIMITADA    RN  ENTIDADES EMPRESARIAIS   \n",
       "1          EMPRESARIO INDIVIDUAL    PI                  OUTROS   \n",
       "\n",
       "                              de_ramo             setor  idade_empresa_anos  \\\n",
       "0             INDUSTRIA DA CONSTRUCAO  CONSTRUÇÃO CIVIL           14.457534   \n",
       "1  SERVICOS DE ALOJAMENTO/ALIMENTACAO           SERVIÇO            1.463014   \n",
       "\n",
       "  idade_emp_cat  ...  media_meses_servicos  max_meses_servicos  \\\n",
       "0       10 a 15  ...             43.738462           93.266667   \n",
       "1         1 a 5  ...                   NaN                 NaN   \n",
       "\n",
       "   min_meses_servicos  qt_funcionarios  qt_funcionarios_12meses  \\\n",
       "0           19.166667             26.0                     26.0   \n",
       "1                 NaN              NaN                      NaN   \n",
       "\n",
       "  qt_funcionarios_24meses  tx_crescimento_12meses  tx_crescimento_24meses  \\\n",
       "0                    27.0                     0.0               -3.703704   \n",
       "1                     NaN                     NaN                     NaN   \n",
       "\n",
       "   tx_rotatividade qt_filiais  \n",
       "0              0.0          0  \n",
       "1              NaN          0  \n",
       "\n",
       "[2 rows x 182 columns]"
      ]
     },
     "execution_count": 74,
     "metadata": {},
     "output_type": "execute_result"
    }
   ],
   "source": [
    "df.head(2)"
   ]
  },
  {
   "cell_type": "markdown",
   "metadata": {},
   "source": [
    "### Estáticos portfólio 1"
   ]
  },
  {
   "cell_type": "code",
   "execution_count": 69,
   "metadata": {
    "scrolled": true
   },
   "outputs": [
    {
     "data": {
      "text/html": [
       "<div>\n",
       "<style scoped>\n",
       "    .dataframe tbody tr th:only-of-type {\n",
       "        vertical-align: middle;\n",
       "    }\n",
       "\n",
       "    .dataframe tbody tr th {\n",
       "        vertical-align: top;\n",
       "    }\n",
       "\n",
       "    .dataframe thead th {\n",
       "        text-align: right;\n",
       "    }\n",
       "</style>\n",
       "<table border=\"1\" class=\"dataframe\">\n",
       "  <thead>\n",
       "    <tr style=\"text-align: right;\">\n",
       "      <th></th>\n",
       "      <th>Unnamed: 0</th>\n",
       "      <th>id</th>\n",
       "      <th>fl_matriz</th>\n",
       "      <th>de_natureza_juridica</th>\n",
       "      <th>sg_uf</th>\n",
       "      <th>natureza_juridica_macro</th>\n",
       "      <th>de_ramo</th>\n",
       "      <th>setor</th>\n",
       "      <th>idade_empresa_anos</th>\n",
       "      <th>idade_emp_cat</th>\n",
       "      <th>...</th>\n",
       "      <th>media_meses_servicos</th>\n",
       "      <th>max_meses_servicos</th>\n",
       "      <th>min_meses_servicos</th>\n",
       "      <th>qt_funcionarios</th>\n",
       "      <th>qt_funcionarios_12meses</th>\n",
       "      <th>qt_funcionarios_24meses</th>\n",
       "      <th>tx_crescimento_12meses</th>\n",
       "      <th>tx_crescimento_24meses</th>\n",
       "      <th>tx_rotatividade</th>\n",
       "      <th>qt_filiais</th>\n",
       "    </tr>\n",
       "  </thead>\n",
       "  <tbody>\n",
       "    <tr>\n",
       "      <th>0</th>\n",
       "      <td>0</td>\n",
       "      <td>dabe79bec87c88ae04e869bf6bd321ee5e1893cecf6625...</td>\n",
       "      <td>True</td>\n",
       "      <td>EMPRESARIO INDIVIDUAL</td>\n",
       "      <td>PI</td>\n",
       "      <td>OUTROS</td>\n",
       "      <td>COMERCIO VAREJISTA</td>\n",
       "      <td>COMERCIO</td>\n",
       "      <td>0.646575</td>\n",
       "      <td>&lt;= 1</td>\n",
       "      <td>...</td>\n",
       "      <td>NaN</td>\n",
       "      <td>NaN</td>\n",
       "      <td>NaN</td>\n",
       "      <td>NaN</td>\n",
       "      <td>NaN</td>\n",
       "      <td>NaN</td>\n",
       "      <td>NaN</td>\n",
       "      <td>NaN</td>\n",
       "      <td>NaN</td>\n",
       "      <td>0</td>\n",
       "    </tr>\n",
       "    <tr>\n",
       "      <th>1</th>\n",
       "      <td>1</td>\n",
       "      <td>32e5f4e10932153a7ba869cb0386e7e02d49d2461046b8...</td>\n",
       "      <td>False</td>\n",
       "      <td>EMPRESARIO INDIVIDUAL</td>\n",
       "      <td>MA</td>\n",
       "      <td>OUTROS</td>\n",
       "      <td>COMERCIO VAREJISTA</td>\n",
       "      <td>COMERCIO</td>\n",
       "      <td>6.586301</td>\n",
       "      <td>5 a 10</td>\n",
       "      <td>...</td>\n",
       "      <td>NaN</td>\n",
       "      <td>NaN</td>\n",
       "      <td>NaN</td>\n",
       "      <td>0.0</td>\n",
       "      <td>0.0</td>\n",
       "      <td>2.0</td>\n",
       "      <td>NaN</td>\n",
       "      <td>-100.0</td>\n",
       "      <td>0.0</td>\n",
       "      <td>4</td>\n",
       "    </tr>\n",
       "  </tbody>\n",
       "</table>\n",
       "<p>2 rows × 182 columns</p>\n",
       "</div>"
      ],
      "text/plain": [
       "   Unnamed: 0                                                 id  fl_matriz  \\\n",
       "0           0  dabe79bec87c88ae04e869bf6bd321ee5e1893cecf6625...       True   \n",
       "1           1  32e5f4e10932153a7ba869cb0386e7e02d49d2461046b8...      False   \n",
       "\n",
       "    de_natureza_juridica sg_uf natureza_juridica_macro             de_ramo  \\\n",
       "0  EMPRESARIO INDIVIDUAL    PI                  OUTROS  COMERCIO VAREJISTA   \n",
       "1  EMPRESARIO INDIVIDUAL    MA                  OUTROS  COMERCIO VAREJISTA   \n",
       "\n",
       "      setor  idade_empresa_anos idade_emp_cat  ...  media_meses_servicos  \\\n",
       "0  COMERCIO            0.646575          <= 1  ...                   NaN   \n",
       "1  COMERCIO            6.586301        5 a 10  ...                   NaN   \n",
       "\n",
       "   max_meses_servicos  min_meses_servicos  qt_funcionarios  \\\n",
       "0                 NaN                 NaN              NaN   \n",
       "1                 NaN                 NaN              0.0   \n",
       "\n",
       "   qt_funcionarios_12meses qt_funcionarios_24meses  tx_crescimento_12meses  \\\n",
       "0                      NaN                     NaN                     NaN   \n",
       "1                      0.0                     2.0                     NaN   \n",
       "\n",
       "   tx_crescimento_24meses  tx_rotatividade qt_filiais  \n",
       "0                     NaN              NaN          0  \n",
       "1                  -100.0              0.0          4  \n",
       "\n",
       "[2 rows x 182 columns]"
      ]
     },
     "execution_count": 69,
     "metadata": {},
     "output_type": "execute_result"
    }
   ],
   "source": [
    "df1.head(2)"
   ]
  },
  {
   "cell_type": "markdown",
   "metadata": {},
   "source": [
    "### Estáticos portfólio 2"
   ]
  },
  {
   "cell_type": "code",
   "execution_count": 70,
   "metadata": {
    "scrolled": true
   },
   "outputs": [
    {
     "data": {
      "text/html": [
       "<div>\n",
       "<style scoped>\n",
       "    .dataframe tbody tr th:only-of-type {\n",
       "        vertical-align: middle;\n",
       "    }\n",
       "\n",
       "    .dataframe tbody tr th {\n",
       "        vertical-align: top;\n",
       "    }\n",
       "\n",
       "    .dataframe thead th {\n",
       "        text-align: right;\n",
       "    }\n",
       "</style>\n",
       "<table border=\"1\" class=\"dataframe\">\n",
       "  <thead>\n",
       "    <tr style=\"text-align: right;\">\n",
       "      <th></th>\n",
       "      <th>Unnamed: 0</th>\n",
       "      <th>id</th>\n",
       "    </tr>\n",
       "  </thead>\n",
       "  <tbody>\n",
       "    <tr>\n",
       "      <th>0</th>\n",
       "      <td>0</td>\n",
       "      <td>09e95c1a84049001d086470a8f320a19b076f955a89122...</td>\n",
       "    </tr>\n",
       "    <tr>\n",
       "      <th>1</th>\n",
       "      <td>1</td>\n",
       "      <td>dc9d155f5bcd3172031e2ec9431786e8871ff4b0ff4728...</td>\n",
       "    </tr>\n",
       "  </tbody>\n",
       "</table>\n",
       "</div>"
      ],
      "text/plain": [
       "   Unnamed: 0                                                 id\n",
       "0           0  09e95c1a84049001d086470a8f320a19b076f955a89122...\n",
       "1           1  dc9d155f5bcd3172031e2ec9431786e8871ff4b0ff4728..."
      ]
     },
     "execution_count": 70,
     "metadata": {},
     "output_type": "execute_result"
    }
   ],
   "source": [
    "df2.head(2)"
   ]
  },
  {
   "cell_type": "markdown",
   "metadata": {},
   "source": [
    "### Estáticos portfólio 3"
   ]
  },
  {
   "cell_type": "code",
   "execution_count": 71,
   "metadata": {
    "scrolled": true
   },
   "outputs": [
    {
     "data": {
      "text/html": [
       "<div>\n",
       "<style scoped>\n",
       "    .dataframe tbody tr th:only-of-type {\n",
       "        vertical-align: middle;\n",
       "    }\n",
       "\n",
       "    .dataframe tbody tr th {\n",
       "        vertical-align: top;\n",
       "    }\n",
       "\n",
       "    .dataframe thead th {\n",
       "        text-align: right;\n",
       "    }\n",
       "</style>\n",
       "<table border=\"1\" class=\"dataframe\">\n",
       "  <thead>\n",
       "    <tr style=\"text-align: right;\">\n",
       "      <th></th>\n",
       "      <th>Unnamed: 0</th>\n",
       "      <th>id</th>\n",
       "    </tr>\n",
       "  </thead>\n",
       "  <tbody>\n",
       "    <tr>\n",
       "      <th>0</th>\n",
       "      <td>0</td>\n",
       "      <td>bb61c09449a1c1f8b78955d8b7a7f73599e78358993fe2...</td>\n",
       "    </tr>\n",
       "    <tr>\n",
       "      <th>1</th>\n",
       "      <td>1</td>\n",
       "      <td>16843c9ffb920170477118933798510d8d5f00f5c56c12...</td>\n",
       "    </tr>\n",
       "  </tbody>\n",
       "</table>\n",
       "</div>"
      ],
      "text/plain": [
       "   Unnamed: 0                                                 id\n",
       "0           0  bb61c09449a1c1f8b78955d8b7a7f73599e78358993fe2...\n",
       "1           1  16843c9ffb920170477118933798510d8d5f00f5c56c12..."
      ]
     },
     "execution_count": 71,
     "metadata": {},
     "output_type": "execute_result"
    }
   ],
   "source": [
    "df3.head(2)"
   ]
  },
  {
   "cell_type": "markdown",
   "metadata": {},
   "source": [
    "### Análise das colunasdos data set"
   ]
  },
  {
   "cell_type": "code",
   "execution_count": 98,
   "metadata": {},
   "outputs": [
    {
     "name": "stdout",
     "output_type": "stream",
     "text": [
      "   Unnamed: 0                                                 id  fl_matriz  \\\n",
      "0           0  a6984c3ae395090e3bee8ad63c3758b110de096d5d8195...       True   \n",
      "1           1  6178f41ade1365e44bc2c46654c2c8c0eaae27dcb476c4...       True   \n",
      "2           2  4a7e5069a397f12fdd7fd57111d6dc5d3ba558958efc02...       True   \n",
      "3           3  3348900fe63216a439d2e5238c79ddd46ede454df7b9d8...       True   \n",
      "4           4  1f9bcabc9d3173c1fe769899e4fac14b053037b953a1e4...       True   \n",
      "\n",
      "            de_natureza_juridica sg_uf natureza_juridica_macro  \\\n",
      "0  SOCIEDADE EMPRESARIA LIMITADA    RN  ENTIDADES EMPRESARIAIS   \n",
      "1          EMPRESARIO INDIVIDUAL    PI                  OUTROS   \n",
      "2          EMPRESARIO INDIVIDUAL    AM                  OUTROS   \n",
      "3          EMPRESARIO INDIVIDUAL    AM                  OUTROS   \n",
      "4          EMPRESARIO INDIVIDUAL    RN                  OUTROS   \n",
      "\n",
      "                                          de_ramo             setor  \\\n",
      "0                         INDUSTRIA DA CONSTRUCAO  CONSTRUÇÃO CIVIL   \n",
      "1              SERVICOS DE ALOJAMENTO/ALIMENTACAO           SERVIÇO   \n",
      "2               TRANSPORTE, ARMAZENAGEM E CORREIO           SERVIÇO   \n",
      "3                               SERVICOS DIVERSOS           SERVIÇO   \n",
      "4  SERVICOS PROFISSIONAIS, TECNICOS E CIENTIFICOS           SERVIÇO   \n",
      "\n",
      "   idade_empresa_anos idade_emp_cat  ...  media_meses_servicos  \\\n",
      "0           14.457534       10 a 15  ...             43.738462   \n",
      "1            1.463014         1 a 5  ...                   NaN   \n",
      "2            7.093151        5 a 10  ...                   NaN   \n",
      "3            6.512329        5 a 10  ...                   NaN   \n",
      "4            3.200000         1 a 5  ...                   NaN   \n",
      "\n",
      "   max_meses_servicos  min_meses_servicos  qt_funcionarios  \\\n",
      "0           93.266667           19.166667             26.0   \n",
      "1                 NaN                 NaN              NaN   \n",
      "2                 NaN                 NaN              NaN   \n",
      "3                 NaN                 NaN              NaN   \n",
      "4                 NaN                 NaN              NaN   \n",
      "\n",
      "   qt_funcionarios_12meses qt_funcionarios_24meses  tx_crescimento_12meses  \\\n",
      "0                     26.0                    27.0                     0.0   \n",
      "1                      NaN                     NaN                     NaN   \n",
      "2                      NaN                     NaN                     NaN   \n",
      "3                      NaN                     NaN                     NaN   \n",
      "4                      NaN                     NaN                     NaN   \n",
      "\n",
      "   tx_crescimento_24meses  tx_rotatividade qt_filiais  \n",
      "0               -3.703704              0.0          0  \n",
      "1                     NaN              NaN          0  \n",
      "2                     NaN              NaN          0  \n",
      "3                     NaN              NaN          0  \n",
      "4                     NaN              NaN          0  \n",
      "\n",
      "[5 rows x 182 columns]\n",
      "float64    144\n",
      "object      27\n",
      "bool         9\n",
      "int64        2\n",
      "dtype: int64\n",
      "(462298, 182)\n"
     ]
    }
   ],
   "source": [
    "print(df.head())\n",
    "print(df.dtypes.value_counts())\n",
    "print(df.shape)"
   ]
  }
 ],
 "metadata": {
  "kernelspec": {
   "display_name": "Python 3",
   "language": "python",
   "name": "python3"
  },
  "language_info": {
   "codemirror_mode": {
    "name": "ipython",
    "version": 3
   },
   "file_extension": ".py",
   "mimetype": "text/x-python",
   "name": "python",
   "nbconvert_exporter": "python",
   "pygments_lexer": "ipython3",
   "version": "3.8.3"
  }
 },
 "nbformat": 4,
 "nbformat_minor": 4
}
